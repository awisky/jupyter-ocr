{
 "cells": [
  {
   "cell_type": "code",
   "execution_count": 10,
   "id": "e1dfadc1",
   "metadata": {},
   "outputs": [],
   "source": [
    "#Necessary imports, the pdf2image library to convert pdfs to images, so we can process those images with the OCR\n",
    "import easyocr\n",
    "from pdf2image import convert_from_path"
   ]
  },
  {
   "cell_type": "code",
   "execution_count": 11,
   "id": "358455f3",
   "metadata": {},
   "outputs": [
    {
     "name": "stderr",
     "output_type": "stream",
     "text": [
      "CUDA not available - defaulting to CPU. Note: This module is much faster with a GPU.\n"
     ]
    }
   ],
   "source": [
    "#Initialize the OCR reader with the languages we want to process.\n",
    "reader = easyocr.Reader(lang_list=['en'])"
   ]
  },
  {
   "cell_type": "code",
   "execution_count": 12,
   "id": "c88985e5",
   "metadata": {},
   "outputs": [
    {
     "name": "stdout",
     "output_type": "stream",
     "text": [
      "Pages from pdf: 2\n"
     ]
    }
   ],
   "source": [
    "#PDF to images\n",
    "pages = convert_from_path('docs/A Simple PDf.pdf', 500)\n",
    "print('Pages from pdf: %s' %len(pages))"
   ]
  },
  {
   "cell_type": "code",
   "execution_count": 14,
   "id": "aa1aa48c",
   "metadata": {},
   "outputs": [
    {
     "name": "stdout",
     "output_type": "stream",
     "text": [
      "A\n",
      "Simple PDF File\n",
      "This is a small demonstration\n",
      "file\n",
      "just for use in the Virtual Mechanics tutorials: More text: And more\n",
      "text. And more text; And more text. And more text;\n",
      "And more text. And more text.\n",
      "And more text. And more text. And more\n",
      "text. And more text. Boring, zZZZZ. And more text: And more text. And\n",
      "more text: And more text. And more text. And more text: And more text:\n",
      "And more text. And more text,\n",
      "And more text. And more text. And more text, And more text. And more\n",
      "text: And more text: And more text: Even more: Continued on page 2\n",
      "pdf\n",
      "Simple PDF File 2\n",
      "continued from page 1. Yet more text: And more text: And more text:\n",
      "And more text. And more text. And more text: And more text. And more\n",
      "text. Oh, how boring typing this stuff. But not as boring as watching\n",
      "dry. And more text: And more text: And more text. And more text:\n",
      "Boring:\n",
      "More, a little more text. The end, and just as well:\n",
      "paint\n",
      "\n"
     ]
    }
   ],
   "source": [
    "#Read the text from the images and store what we found in the text variable\n",
    "text = ''\n",
    "for page in pages:\n",
    "    page.save('page.jpg', 'JPEG')\n",
    "    data = reader.readtext('page.jpg')\n",
    "    for element in data:\n",
    "        text += element[1]+'\\n'\n",
    "print(text)\n"
   ]
  },
  {
   "cell_type": "code",
   "execution_count": null,
   "id": "bf92bae1",
   "metadata": {},
   "outputs": [],
   "source": []
  }
 ],
 "metadata": {
  "kernelspec": {
   "display_name": "Python 3",
   "language": "python",
   "name": "python3"
  },
  "language_info": {
   "codemirror_mode": {
    "name": "ipython",
    "version": 3
   },
   "file_extension": ".py",
   "mimetype": "text/x-python",
   "name": "python",
   "nbconvert_exporter": "python",
   "pygments_lexer": "ipython3",
   "version": "3.9.2"
  }
 },
 "nbformat": 4,
 "nbformat_minor": 5
}
